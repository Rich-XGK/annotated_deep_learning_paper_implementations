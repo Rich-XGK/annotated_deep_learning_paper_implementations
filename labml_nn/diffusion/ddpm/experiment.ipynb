{
 "cells": [
  {
   "cell_type": "markdown",
   "metadata": {
    "id": "AYV_dMVDxyc2",
    "pycharm": {
     "name": "#%% md\n"
    }
   },
   "source": [
    "[![Github](https://img.shields.io/github/stars/labmlai/annotated_deep_learning_paper_implementations?style=social)](https://github.com/labmlai/annotated_deep_learning_paper_implementations)\n",
    "[![Open In Colab](https://colab.research.google.com/assets/colab-badge.svg)](https://colab.research.google.com/github/labmlai/annotated_deep_learning_paper_implementations/blob/master/labml_nn/diffusion/ddpm/experiment.ipynb)\n",
    "\n",
    "## [Denoising Diffusion Probabilistic Models (DDPM)](https://nn.labml.ai/diffusion/ddpm/index.html)\n",
    "\n",
    "This notebook trains a DDPM based model on MNIST digits dataset."
   ]
  },
  {
   "cell_type": "markdown",
   "metadata": {
    "id": "AahG_i2y5tY9",
    "pycharm": {
     "name": "#%% md\n"
    }
   },
   "source": [
    "### Install the packages"
   ]
  },
  {
   "cell_type": "code",
   "execution_count": 1,
   "metadata": {
    "colab": {
     "base_uri": "https://localhost:8080/"
    },
    "id": "ZCzmCrAIVg0L",
    "outputId": "cf107fb2-4d50-4c67-af34-367624553421",
    "pycharm": {
     "name": "#%%\n"
    }
   },
   "outputs": [],
   "source": [
    "# !pip install labml-nn --quiet"
   ]
  },
  {
   "cell_type": "markdown",
   "metadata": {
    "id": "SE2VUQ6L5zxI",
    "pycharm": {
     "name": "#%% md\n"
    }
   },
   "source": [
    "### Imports"
   ]
  },
  {
   "cell_type": "code",
   "execution_count": 2,
   "metadata": {
    "collapsed": false,
    "jupyter": {
     "outputs_hidden": false
    },
    "pycharm": {
     "name": "#%%\n"
    }
   },
   "outputs": [],
   "source": [
    "import torch\n",
    "import torch.nn as nn\n",
    "\n",
    "from labml import experiment\n",
    "from labml.configs import option\n",
    "from labml_nn.diffusion.ddpm.experiment import Configs"
   ]
  },
  {
   "cell_type": "markdown",
   "metadata": {
    "pycharm": {
     "name": "#%% md\n"
    }
   },
   "source": [
    "### Create an experiment"
   ]
  },
  {
   "cell_type": "code",
   "execution_count": 3,
   "metadata": {
    "collapsed": false,
    "jupyter": {
     "outputs_hidden": false
    },
    "pycharm": {
     "name": "#%%\n"
    }
   },
   "outputs": [],
   "source": [
    "experiment.create(name=\"diffuse\", writers={'screen'})"
   ]
  },
  {
   "cell_type": "markdown",
   "metadata": {
    "pycharm": {
     "name": "#%% md\n"
    }
   },
   "source": [
    "### Configurations"
   ]
  },
  {
   "cell_type": "code",
   "execution_count": 4,
   "metadata": {
    "collapsed": false,
    "jupyter": {
     "outputs_hidden": false
    },
    "pycharm": {
     "name": "#%%\n"
    }
   },
   "outputs": [],
   "source": [
    "configs = Configs()"
   ]
  },
  {
   "cell_type": "markdown",
   "metadata": {
    "pycharm": {
     "name": "#%% md\n"
    }
   },
   "source": [
    "Set experiment configurations and assign a configurations dictionary to override configurations"
   ]
  },
  {
   "cell_type": "code",
   "execution_count": 5,
   "metadata": {
    "collapsed": false,
    "jupyter": {
     "outputs_hidden": false
    },
    "pycharm": {
     "name": "#%%\n"
    }
   },
   "outputs": [
    {
     "data": {
      "text/html": [
       "<pre style=\"overflow-x: scroll;\"></pre>"
      ],
      "text/plain": [
       "<IPython.core.display.HTML object>"
      ]
     },
     "metadata": {},
     "output_type": "display_data"
    }
   ],
   "source": [
    "experiment.configs(configs, {\n",
    "    'dataset': 'MNIST',\n",
    "    'image_channels': 1,\n",
    "    'epochs': 5,\n",
    "})"
   ]
  },
  {
   "cell_type": "markdown",
   "metadata": {
    "pycharm": {
     "name": "#%% md\n"
    }
   },
   "source": [
    "Initializ"
   ]
  },
  {
   "cell_type": "code",
   "execution_count": 6,
   "metadata": {
    "pycharm": {
     "name": "#%%\n"
    }
   },
   "outputs": [
    {
     "data": {
      "text/html": [
       "<pre style=\"overflow-x: scroll;\">Prepare device.device...</pre>"
      ],
      "text/plain": [
       "<IPython.core.display.HTML object>"
      ]
     },
     "metadata": {},
     "output_type": "display_data"
    }
   ],
   "source": [
    "configs.init()"
   ]
  },
  {
   "cell_type": "markdown",
   "metadata": {
    "id": "EvI7MtgJ61w5",
    "pycharm": {
     "name": "#%% md\n"
    }
   },
   "source": [
    "Set PyTorch models for loading and saving"
   ]
  },
  {
   "cell_type": "code",
   "execution_count": 7,
   "metadata": {
    "colab": {
     "base_uri": "https://localhost:8080/",
     "height": 255
    },
    "id": "GDlt7dp-5ALt",
    "outputId": "e7548e8f-c541-4618-dc5a-1597cae42003",
    "pycharm": {
     "name": "#%%\n"
    }
   },
   "outputs": [],
   "source": [
    "experiment.add_pytorch_models({'eps_model': configs.eps_model})"
   ]
  },
  {
   "cell_type": "markdown",
   "metadata": {
    "id": "KJZRf8527GxL",
    "pycharm": {
     "name": "#%% md\n"
    }
   },
   "source": [
    "### Start the experiment and run the training loop."
   ]
  },
  {
   "cell_type": "code",
   "execution_count": 8,
   "metadata": {
    "colab": {
     "base_uri": "https://localhost:8080/",
     "height": 1000
    },
    "id": "aIAWo7Fw5DR8",
    "outputId": "db979785-bfe3-4eda-d3eb-8ccbe61053e5",
    "pycharm": {
     "name": "#%%\n"
    }
   },
   "outputs": [
    {
     "data": {
      "text/html": [
       "<pre style=\"overflow-x: scroll;\"></pre>"
      ],
      "text/plain": [
       "<IPython.core.display.HTML object>"
      ]
     },
     "metadata": {},
     "output_type": "display_data"
    },
    {
     "ename": "AttributeError",
     "evalue": "'NoneType' object has no attribute 'subplots'",
     "output_type": "error",
     "traceback": [
      "\u001b[0;31m---------------------------------------------------------------------------\u001b[0m",
      "\u001b[0;31mAttributeError\u001b[0m                            Traceback (most recent call last)",
      "\u001b[1;32m/home/Xgk/WorkSpace/annotated_deep_learning_paper_implementations/labml_nn/diffusion/ddpm/experiment.ipynb 单元格 17\u001b[0m line \u001b[0;36m3\n\u001b[1;32m      <a href='vscode-notebook-cell://ssh-remote%2B7b22686f73744e616d65223a22413130302d50726976617465227d/home/Xgk/WorkSpace/annotated_deep_learning_paper_implementations/labml_nn/diffusion/ddpm/experiment.ipynb#X22sdnNjb2RlLXJlbW90ZQ%3D%3D?line=0'>1</a>\u001b[0m \u001b[39m# Start the experiment\u001b[39;00m\n\u001b[1;32m      <a href='vscode-notebook-cell://ssh-remote%2B7b22686f73744e616d65223a22413130302d50726976617465227d/home/Xgk/WorkSpace/annotated_deep_learning_paper_implementations/labml_nn/diffusion/ddpm/experiment.ipynb#X22sdnNjb2RlLXJlbW90ZQ%3D%3D?line=1'>2</a>\u001b[0m \u001b[39mwith\u001b[39;00m experiment\u001b[39m.\u001b[39mstart():\n\u001b[0;32m----> <a href='vscode-notebook-cell://ssh-remote%2B7b22686f73744e616d65223a22413130302d50726976617465227d/home/Xgk/WorkSpace/annotated_deep_learning_paper_implementations/labml_nn/diffusion/ddpm/experiment.ipynb#X22sdnNjb2RlLXJlbW90ZQ%3D%3D?line=2'>3</a>\u001b[0m     configs\u001b[39m.\u001b[39;49mrun()\n",
      "File \u001b[0;32m~/miniconda3/envs/labml_nn/lib/python3.10/site-packages/labml_nn/diffusion/ddpm/experiment.py:154\u001b[0m, in \u001b[0;36mConfigs.run\u001b[0;34m(self)\u001b[0m\n\u001b[1;32m    152\u001b[0m \u001b[39mself\u001b[39m\u001b[39m.\u001b[39mtrain()\n\u001b[1;32m    153\u001b[0m \u001b[39m# Sample some images\u001b[39;00m\n\u001b[0;32m--> 154\u001b[0m \u001b[39mself\u001b[39;49m\u001b[39m.\u001b[39;49msample()\n\u001b[1;32m    155\u001b[0m \u001b[39m# New line in the console\u001b[39;00m\n\u001b[1;32m    156\u001b[0m tracker\u001b[39m.\u001b[39mnew_line()\n",
      "File \u001b[0;32m~/miniconda3/envs/labml_nn/lib/python3.10/site-packages/labml_nn/diffusion/ddpm/experiment.py:121\u001b[0m, in \u001b[0;36mConfigs.sample\u001b[0;34m(self)\u001b[0m\n\u001b[1;32m    118\u001b[0m     x \u001b[39m=\u001b[39m \u001b[39mself\u001b[39m\u001b[39m.\u001b[39mdiffusion\u001b[39m.\u001b[39mp_sample(x, x\u001b[39m.\u001b[39mnew_full((\u001b[39mself\u001b[39m\u001b[39m.\u001b[39mn_samples,), t, dtype\u001b[39m=\u001b[39mtorch\u001b[39m.\u001b[39mlong))\n\u001b[1;32m    120\u001b[0m \u001b[39m# Log samples\u001b[39;00m\n\u001b[0;32m--> 121\u001b[0m tracker\u001b[39m.\u001b[39;49msave(\u001b[39m'\u001b[39;49m\u001b[39msample\u001b[39;49m\u001b[39m'\u001b[39;49m, x)\n",
      "File \u001b[0;32m~/miniconda3/envs/labml_nn/lib/python3.10/site-packages/labml/tracker.py:325\u001b[0m, in \u001b[0;36msave\u001b[0;34m(*args, **kwargs)\u001b[0m\n\u001b[1;32m    322\u001b[0m \u001b[39mif\u001b[39;00m \u001b[39mlen\u001b[39m(args) \u001b[39m>\u001b[39m \u001b[39m0\u001b[39m \u001b[39mor\u001b[39;00m \u001b[39mlen\u001b[39m(kwargs\u001b[39m.\u001b[39mkeys()) \u001b[39m>\u001b[39m \u001b[39m0\u001b[39m:\n\u001b[1;32m    323\u001b[0m     add(\u001b[39m*\u001b[39margs, \u001b[39m*\u001b[39m\u001b[39m*\u001b[39mkwargs)\n\u001b[0;32m--> 325\u001b[0m _internal()\u001b[39m.\u001b[39;49mwrite()\n",
      "File \u001b[0;32m~/miniconda3/envs/labml_nn/lib/python3.10/site-packages/labml/internal/tracker/__init__.py:82\u001b[0m, in \u001b[0;36mTracker.write\u001b[0;34m(self)\u001b[0m\n\u001b[1;32m     80\u001b[0m \u001b[39mfor\u001b[39;00m w \u001b[39min\u001b[39;00m \u001b[39mself\u001b[39m\u001b[39m.\u001b[39m__writers:\n\u001b[1;32m     81\u001b[0m     \u001b[39mif\u001b[39;00m \u001b[39misinstance\u001b[39m(w, ScreenWriter):\n\u001b[0;32m---> 82\u001b[0m         indicators_print \u001b[39m=\u001b[39m \u001b[39mself\u001b[39;49m\u001b[39m.\u001b[39;49m_write_writer(w, global_step)\n\u001b[1;32m     83\u001b[0m     \u001b[39melse\u001b[39;00m:\n\u001b[1;32m     84\u001b[0m         \u001b[39mself\u001b[39m\u001b[39m.\u001b[39m_write_writer(w, global_step)\n",
      "File \u001b[0;32m~/miniconda3/envs/labml_nn/lib/python3.10/site-packages/labml/internal/tracker/__init__.py:66\u001b[0m, in \u001b[0;36mTracker._write_writer\u001b[0;34m(self, writer, global_step)\u001b[0m\n\u001b[1;32m     65\u001b[0m \u001b[39mdef\u001b[39;00m \u001b[39m_write_writer\u001b[39m(\u001b[39mself\u001b[39m, writer: Writer, global_step):\n\u001b[0;32m---> 66\u001b[0m     \u001b[39mreturn\u001b[39;00m writer\u001b[39m.\u001b[39;49mwrite(global_step\u001b[39m=\u001b[39;49mglobal_step,\n\u001b[1;32m     67\u001b[0m                         indicators\u001b[39m=\u001b[39;49m\u001b[39mself\u001b[39;49m\u001b[39m.\u001b[39;49mindicators)\n",
      "File \u001b[0;32m~/miniconda3/envs/labml_nn/lib/python3.10/site-packages/labml/internal/tracker/writers/screen.py:199\u001b[0m, in \u001b[0;36mScreenWriter.write\u001b[0;34m(self, global_step, indicators)\u001b[0m\n\u001b[1;32m    195\u001b[0m \u001b[39mdef\u001b[39;00m \u001b[39mwrite\u001b[39m(\u001b[39mself\u001b[39m, \u001b[39m*\u001b[39m,\n\u001b[1;32m    196\u001b[0m           global_step: \u001b[39mint\u001b[39m,\n\u001b[1;32m    197\u001b[0m           indicators: Dict[\u001b[39mstr\u001b[39m, Indicator]):\n\u001b[0;32m--> 199\u001b[0m     \u001b[39mself\u001b[39;49m\u001b[39m.\u001b[39;49m_print_artifacts(indicators)\n\u001b[1;32m    201\u001b[0m     \u001b[39mreturn\u001b[39;00m \u001b[39mself\u001b[39m\u001b[39m.\u001b[39m_get_indicator_string(indicators)\n",
      "File \u001b[0;32m~/miniconda3/envs/labml_nn/lib/python3.10/site-packages/labml/internal/tracker/writers/screen.py:184\u001b[0m, in \u001b[0;36mScreenWriter._print_artifacts\u001b[0;34m(self, indicators)\u001b[0m\n\u001b[1;32m    182\u001b[0m     \u001b[39mcontinue\u001b[39;00m\n\u001b[1;32m    183\u001b[0m \u001b[39mif\u001b[39;00m \u001b[39mnot\u001b[39;00m ind\u001b[39m.\u001b[39mis_indexed:\n\u001b[0;32m--> 184\u001b[0m     \u001b[39mself\u001b[39;49m\u001b[39m.\u001b[39;49m_print_artifact(ind)\n\u001b[1;32m    185\u001b[0m     \u001b[39mcontinue\u001b[39;00m\n\u001b[1;32m    187\u001b[0m table[ind\u001b[39m.\u001b[39mname] \u001b[39m=\u001b[39m \u001b[39mself\u001b[39m\u001b[39m.\u001b[39m_get_artifact_print_length(ind)\n",
      "File \u001b[0;32m~/miniconda3/envs/labml_nn/lib/python3.10/site-packages/labml/internal/tracker/writers/screen.py:139\u001b[0m, in \u001b[0;36mScreenWriter._print_artifact\u001b[0;34m(self, indicator)\u001b[0m\n\u001b[1;32m    137\u001b[0m cols \u001b[39m=\u001b[39m \u001b[39mmax\u001b[39m(\u001b[39m1\u001b[39m, \u001b[39mint\u001b[39m(math\u001b[39m.\u001b[39msqrt(n_images)))\n\u001b[1;32m    138\u001b[0m fig: plt\u001b[39m.\u001b[39mFigure\n\u001b[0;32m--> 139\u001b[0m fig, axs \u001b[39m=\u001b[39m plt\u001b[39m.\u001b[39;49msubplots((n_images \u001b[39m+\u001b[39m cols \u001b[39m-\u001b[39m \u001b[39m1\u001b[39m) \u001b[39m/\u001b[39m\u001b[39m/\u001b[39m cols, cols,\n\u001b[1;32m    140\u001b[0m                         sharex\u001b[39m=\u001b[39m\u001b[39m'\u001b[39m\u001b[39mall\u001b[39m\u001b[39m'\u001b[39m, sharey\u001b[39m=\u001b[39m\u001b[39m'\u001b[39m\u001b[39mall\u001b[39m\u001b[39m'\u001b[39m,\n\u001b[1;32m    141\u001b[0m                         figsize\u001b[39m=\u001b[39m(\u001b[39m8\u001b[39m, \u001b[39m10\u001b[39m))\n\u001b[1;32m    142\u001b[0m \u001b[39mfrom\u001b[39;00m \u001b[39mlabml\u001b[39;00m \u001b[39mimport\u001b[39;00m tracker\n\u001b[1;32m    143\u001b[0m fig\u001b[39m.\u001b[39msuptitle(\u001b[39mf\u001b[39m\u001b[39m'\u001b[39m\u001b[39m{\u001b[39;00mindicator\u001b[39m.\u001b[39mname\u001b[39m}\u001b[39;00m\u001b[39m-\u001b[39m\u001b[39m{\u001b[39;00mtracker\u001b[39m.\u001b[39mget_global_step()\u001b[39m}\u001b[39;00m\u001b[39m'\u001b[39m)\n",
      "\u001b[0;31mAttributeError\u001b[0m: 'NoneType' object has no attribute 'subplots'"
     ]
    },
    {
     "ename": "",
     "evalue": "",
     "output_type": "error",
     "traceback": [
      "\u001b[1;31m在当前单元格或上一个单元格中执行代码时 Kernel 崩溃。请查看单元格中的代码，以确定故障的可能原因。有关详细信息，请单击 <a href='https://aka.ms/vscodeJupyterKernelCrash'>此处</a>。有关更多详细信息，请查看 Jupyter <a href='command:jupyter.viewOutput'>log</a>。"
     ]
    }
   ],
   "source": [
    "# Start the experiment\n",
    "with experiment.start():\n",
    "    configs.run()"
   ]
  },
  {
   "cell_type": "code",
   "execution_count": null,
   "metadata": {
    "pycharm": {
     "name": "#%%\n"
    }
   },
   "outputs": [],
   "source": []
  }
 ],
 "metadata": {
  "accelerator": "GPU",
  "colab": {
   "collapsed_sections": [],
   "name": "Denoising Diffusion Probabilistic Models (DDPM)",
   "provenance": []
  },
  "kernelspec": {
   "display_name": "Python 3 (ipykernel)",
   "language": "python",
   "name": "python3"
  },
  "language_info": {
   "codemirror_mode": {
    "name": "ipython",
    "version": 3
   },
   "file_extension": ".py",
   "mimetype": "text/x-python",
   "name": "python",
   "nbconvert_exporter": "python",
   "pygments_lexer": "ipython3",
   "version": "3.10.13"
  }
 },
 "nbformat": 4,
 "nbformat_minor": 4
}
